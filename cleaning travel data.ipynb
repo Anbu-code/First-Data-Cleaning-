{
  "nbformat": 4,
  "nbformat_minor": 0,
  "metadata": {
    "colab": {
      "provenance": [],
      "authorship_tag": "ABX9TyN8Z0rVy68kn3La2Z1a7jAP",
      "include_colab_link": true
    },
    "kernelspec": {
      "name": "python3",
      "display_name": "Python 3"
    },
    "language_info": {
      "name": "python"
    }
  },
  "cells": [
    {
      "cell_type": "markdown",
      "metadata": {
        "id": "view-in-github",
        "colab_type": "text"
      },
      "source": [
        "<a href=\"https://colab.research.google.com/github/Anbu-code/First-Data-Cleaning-/blob/main/cleaning%20travel%20data.ipynb\" target=\"_parent\"><img src=\"https://colab.research.google.com/assets/colab-badge.svg\" alt=\"Open In Colab\"/></a>"
      ]
    },
    {
      "cell_type": "code",
      "execution_count": 6,
      "metadata": {
        "colab": {
          "base_uri": "https://localhost:8080/"
        },
        "id": "dRGcRxkKeapB",
        "outputId": "8fbf9aa6-0e86-4fc2-cb30-063cacba85af"
      },
      "outputs": [
        {
          "output_type": "stream",
          "name": "stdout",
          "text": [
            "✅ Cleaned CSV saved as 'cleaned_dataset.csv'\n"
          ]
        }
      ],
      "source": [
        "import pandas as pd\n",
        "import json\n",
        "\n",
        "# Load your data\n",
        "df = pd.read_csv('Worldwide Travel Cities Dataset (Ratings and Climate).csv')  # 🔁 Replace with your filename\n",
        "\n",
        "# Convert UUIDs in 'id' to unique integers\n",
        "df['id'] = pd.factorize(df['id'])[0]\n",
        "\n",
        "# Drop unwanted columns\n",
        "df.drop(columns=['short_description', 'longitude', 'latitude'], inplace=True)\n",
        "\n",
        "# Function to calculate annual average temperature\n",
        "def compute_annual_avg(json_str):\n",
        "    try:\n",
        "        monthly_data = json.loads(json_str)\n",
        "        avg_values = [month['avg'] for month in monthly_data.values()]\n",
        "        return round(sum(avg_values) / len(avg_values), 2)\n",
        "    except:\n",
        "        return None\n",
        "\n",
        "df['avg_temp'] = df['avg_temp_monthly'].apply(compute_annual_avg)\n",
        "df.drop(columns=['avg_temp_monthly'], inplace=True)\n",
        "\n",
        "# Ranking durations for selecting the longest one\n",
        "duration_priority = {\n",
        "    'Day trip': 1,\n",
        "    'Short trip': 2,\n",
        "    'Weekend': 3,\n",
        "    'One week': 4,\n",
        "    'Long trip': 5\n",
        "}\n",
        "\n",
        "# Extract longest duration from list\n",
        "def get_longest_duration(duration_str):\n",
        "    try:\n",
        "        durations = json.loads(duration_str)\n",
        "        return max(durations, key=lambda d: duration_priority.get(d, 0))\n",
        "    except:\n",
        "        return None\n",
        "\n",
        "df['ideal_durations'] = df['ideal_durations'].apply(get_longest_duration)\n",
        "\n",
        "# Export cleaned dataset\n",
        "df.to_csv('cleaned_dataset.csv', index=False)\n",
        "print(\"✅ Cleaned CSV saved as 'cleaned_dataset.csv'\")"
      ]
    }
  ]
}